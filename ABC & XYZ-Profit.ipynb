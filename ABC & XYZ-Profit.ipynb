{
 "cells": [
  {
   "cell_type": "code",
   "execution_count": null,
   "id": "70fe61bf",
   "metadata": {},
   "outputs": [],
   "source": [
    "import pandas as pd\n",
    "import pyodbc\n",
    "from sqlalchemy import engine\n",
    "from pandas import ExcelWriter\n",
    "\n",
    "import matplotlib.pyplot as plt\n",
    "import seaborn as sns"
   ]
  },
  {
   "cell_type": "code",
   "execution_count": null,
   "id": "6d00e7f2",
   "metadata": {},
   "outputs": [],
   "source": [
    "#cnxn = pyodbc.connect('''DRIVER=SQL Server;\n",
    "#                        Server=192.168.35.102;\n",
    " #                       'Database=PowerBI;\n",
    " #                       Trusted_Connection=Yes\n",
    " #                     ''')\n",
    "#cursor=cnxn.cursor()\n"
   ]
  },
  {
   "cell_type": "code",
   "execution_count": null,
   "id": "7b0bfeaa",
   "metadata": {},
   "outputs": [],
   "source": [
    "query='''\n",
    "                        WITH table1 as \n",
    "(\n",
    "SELECT  DATEPART(WEEK, th.[TranDate]) AS WeekNum,p.[Category],p.[Class],p.[StockCode],p.[Description],p.[Status], (tl.[ImpactAmount]-tl.[LineTotalCost]) AS Profit\n",
    "From [PowerBI].[dbo].[TransactionLine] tl \n",
    "LEFT JOIN [PowerBI].[dbo].[Subsidiary] s ON tl.SubsidiaryId = s.[SubsidiaryId] \n",
    "LEFT JOIN [PowerBI].[dbo].[TransactionHeader] th ON tl.[TransactionId]=th.[TransactionId]\n",
    "LEFT JOIN [PowerBI].[dbo].[Product] p ON tl.[ProductId] =p.[ProductId]\n",
    "\n",
    "\n",
    "WHERE th.[TranDate]>= DATEADD(MONTH, -12, GETDATE()) \n",
    "AND s.Name='Wilton Bradley Limited' \n",
    "AND p.[Class] IS NOT NULL \n",
    "AND p.[Category] IS NOT NULL \n",
    "AND  tl.[GlId] =54\n",
    "AND tl.TransactionType IN ('Cash Sale', 'Credit Memo','Invoice')\n",
    "\n",
    ")\n",
    "\n",
    "SELECT  [WeekNum],[Category],[Class],[StockCode],[Description],[Status], SUM(Profit) AS TotalProfit\n",
    "FROM table1  \n",
    "GROUP BY [StockCode], [WeekNum], [Description],[Category],[Class],[Status]\n",
    "ORDER BY WeekNum ASC, TotalProfit DESC\n",
    "\n",
    "               '''\n",
    "\n"
   ]
  },
  {
   "cell_type": "code",
   "execution_count": null,
   "id": "340d8ea0",
   "metadata": {},
   "outputs": [],
   "source": []
  },
  {
   "cell_type": "code",
   "execution_count": null,
   "id": "d80498f6",
   "metadata": {},
   "outputs": [],
   "source": [
    "#df=pd.read_sql(query, cnxn)\n",
    "#cursor.close()\n",
    "#df"
   ]
  },
  {
   "cell_type": "code",
   "execution_count": null,
   "id": "58339f1f",
   "metadata": {},
   "outputs": [],
   "source": [
    "engine=engine.create_engine('mssql://@192.168.35.102/PowerBi?driver=SQL Server')"
   ]
  },
  {
   "cell_type": "code",
   "execution_count": null,
   "id": "7f297108",
   "metadata": {},
   "outputs": [],
   "source": [
    "df=pd.read_sql_query(query, engine)\n",
    "df"
   ]
  },
  {
   "cell_type": "code",
   "execution_count": null,
   "id": "416d2688",
   "metadata": {},
   "outputs": [],
   "source": [
    "df.groupby([\"Class\"])[\"TotalProfit\"].sum()"
   ]
  },
  {
   "cell_type": "code",
   "execution_count": null,
   "id": "691ce168",
   "metadata": {},
   "outputs": [],
   "source": [
    "query_inv='''\n",
    "SELECT \n",
    "    p.[StockCode],\n",
    "    SUM(COALESCE(i.[QuantityOnHand], 0)) AS QuantityOnHand,\n",
    "    ROUND(\n",
    "        CAST(CASE\n",
    "                WHEN p.[OuterCtnQty] <> 0 THEN (p.[Ctncbm] / p.[OuterCtnQty])\n",
    "                ELSE 0 END AS NUMERIC(18, 4)\n",
    "        ), 4) AS unit_cubicmeter\n",
    "FROM \n",
    "    [PowerBi].[dbo].[Product] p \n",
    "LEFT JOIN \n",
    "    [PowerBi].[dbo].[ItemInventory] i ON p.[ProductId] = i.[ProductId]\n",
    "GROUP BY \n",
    "    p.[StockCode], \n",
    "    p.[OuterCtnQty], \n",
    "    p.[Ctncbm]  -- Include only the columns used in the SELECT clause or aggregated\n",
    "ORDER BY \n",
    "    [QuantityOnHand] DESC\n",
    "'''"
   ]
  },
  {
   "cell_type": "code",
   "execution_count": null,
   "id": "26d77958",
   "metadata": {},
   "outputs": [],
   "source": [
    "df_inv=pd.read_sql_query(query_inv,engine)\n",
    "df_inv[\"unit_cubicmeter\"]=df_inv[\"unit_cubicmeter\"].fillna(0)\n",
    "df_inv[\"Vol\"]=df_inv[\"QuantityOnHand\"]*df_inv[\"unit_cubicmeter\"]\n",
    "df_inv"
   ]
  },
  {
   "cell_type": "code",
   "execution_count": null,
   "id": "629bd24b",
   "metadata": {},
   "outputs": [],
   "source": [
    "def xyz(x):\n",
    "    if abs(x)<2:\n",
    "        return \"X\"\n",
    "    elif abs(x)<4:\n",
    "        return \"Y\"\n",
    "    else:\n",
    "        return \"Z\"\n",
    "    \n",
    "    \n",
    "    \n",
    "def abc(x):\n",
    "    if x<80:\n",
    "        return \"A\"\n",
    "    elif x<90:\n",
    "        return \"B\"\n",
    "    else:\n",
    "        return \"C\""
   ]
  },
  {
   "cell_type": "code",
   "execution_count": null,
   "id": "1fe9591f",
   "metadata": {},
   "outputs": [],
   "source": [
    "def xyz1(x2):\n",
    "    x1=x2.pivot_table(index=[\"Category\", \"Class\", \"StockCode\", \"Description\"], \n",
    "                  columns=\"WeekNum\", values=\"TotalProfit\", fill_value=0).reset_index()\n",
    "    x1[\"Average\"]=x1.iloc[:,4:].mean(axis=1,skipna=True)\n",
    "    x1[\"COV\"]=x1.iloc[:,4:].std(axis=1, skipna=True)/x1[\"Average\"]\n",
    "    \n",
    "   \n",
    "    sns.displot(x1[\"COV\"], kde=True, bins=50)\n",
    "\n",
    "    plt.show()\n",
    "    \n",
    "    x1[\"XYZ\"]=x1[\"COV\"].apply(xyz)\n",
    "    \n",
    "\n",
    "    \n",
    "    return x1"
   ]
  },
  {
   "cell_type": "code",
   "execution_count": null,
   "id": "45c5faa9",
   "metadata": {},
   "outputs": [],
   "source": [
    "def abc1(a):\n",
    "    a1=a.groupby([\"Category\", \"Class\", \"StockCode\", \"Description\",\"Status\"]).agg(TotalProfit=(\"TotalProfit\", \"sum\")).sort_values(by=\"TotalProfit\", ascending=False).reset_index()\n",
    "    a1[\"CumProfit\"]=a1[\"TotalProfit\"].cumsum()\n",
    "    a1[\"Profit_all\"]=a1[\"TotalProfit\"].sum()\n",
    "    a1[\"%Profit\"]=(a1[\"CumProfit\"]/a1[\"Profit_all\"])*100\n",
    "    a1[\"Bottom CumProfit\"]=a1[\"Profit_all\"]-a1[\"CumProfit\"]\n",
    "    a1[\"ABC\"]=a1[\"%Profit\"].apply(abc)\n",
    "    \n",
    "    return a1"
   ]
  },
  {
   "cell_type": "code",
   "execution_count": null,
   "id": "b0ee3a34",
   "metadata": {},
   "outputs": [],
   "source": [
    "def merge(x,a):\n",
    "    #Only choosing [0, 1, 2, 3, 55, 56, 57] columns for merging\n",
    "    select_x=list(range(0,4))+list(range(57,x.shape[1]))\n",
    "    #select_a=[2]+list(range(4,a.shape[1]))\n",
    "    select_a=list(range(2,3))+list(range(4,a.shape[1]))\n",
    "    \n",
    "    \n",
    "    m = pd.merge(x.iloc[:, select_x], a.iloc[:,select_a], how=\"inner\", on=\"StockCode\").sort_values(by=\"%Profit\")\n",
    "    m1=pd.merge(m, df_inv, how=\"left\", on='StockCode').sort_values(by=\"%Profit\")\n",
    "    return m1"
   ]
  },
  {
   "cell_type": "code",
   "execution_count": null,
   "id": "16ed2ef9",
   "metadata": {},
   "outputs": [],
   "source": [
    "writer=pd.ExcelWriter(\"S:/sales office\\Vishnu\\High inventory products/ABC & XYZ/ABC&XYZ_Profit.xlsx\")\n"
   ]
  },
  {
   "cell_type": "markdown",
   "id": "a978596f",
   "metadata": {},
   "source": [
    "# OSPREY"
   ]
  },
  {
   "cell_type": "code",
   "execution_count": null,
   "id": "be0d68f2",
   "metadata": {},
   "outputs": [],
   "source": [
    "osprey=df[df[\"Class\"]==\"Osprey\"]\n",
    "x=xyz1(osprey)\n",
    "x"
   ]
  },
  {
   "cell_type": "code",
   "execution_count": null,
   "id": "e0c43cd6",
   "metadata": {},
   "outputs": [],
   "source": [
    "osprey\n"
   ]
  },
  {
   "cell_type": "code",
   "execution_count": null,
   "id": "35ba0ef6",
   "metadata": {},
   "outputs": [],
   "source": [
    "a=abc1(osprey)\n",
    "a"
   ]
  },
  {
   "cell_type": "code",
   "execution_count": null,
   "id": "67a517c4",
   "metadata": {},
   "outputs": [],
   "source": [
    "m_osprey=merge(x,a)\n",
    "m_osprey"
   ]
  },
  {
   "cell_type": "markdown",
   "id": "162abbeb",
   "metadata": {},
   "source": [
    "# BESTWAY"
   ]
  },
  {
   "cell_type": "code",
   "execution_count": null,
   "id": "0ccb6d4f",
   "metadata": {},
   "outputs": [],
   "source": [
    "bestway=df[df[\"Class\"]==\"Bestway\"]\n",
    "x=xyz1(bestway)\n",
    "x"
   ]
  },
  {
   "cell_type": "code",
   "execution_count": null,
   "id": "cbf7780f",
   "metadata": {},
   "outputs": [],
   "source": [
    "a=abc1(bestway)\n",
    "a"
   ]
  },
  {
   "cell_type": "code",
   "execution_count": null,
   "id": "c65e839d",
   "metadata": {},
   "outputs": [],
   "source": [
    "m_bestway=merge(x,a)\n",
    "m_bestway"
   ]
  },
  {
   "cell_type": "markdown",
   "id": "673d4a63",
   "metadata": {},
   "source": [
    "# CLEARWATER"
   ]
  },
  {
   "cell_type": "code",
   "execution_count": null,
   "id": "05efcd63",
   "metadata": {},
   "outputs": [],
   "source": [
    "clearwater=df[df[\"Class\"]==\"Clearwater\"]\n",
    "x=xyz1(clearwater)\n",
    "x"
   ]
  },
  {
   "cell_type": "code",
   "execution_count": null,
   "id": "8012a00d",
   "metadata": {},
   "outputs": [],
   "source": [
    "a=abc1(clearwater)\n",
    "a"
   ]
  },
  {
   "cell_type": "code",
   "execution_count": null,
   "id": "b51870ab",
   "metadata": {},
   "outputs": [],
   "source": [
    "m_clearwater=merge(x,a)\n",
    "m_clearwater"
   ]
  },
  {
   "cell_type": "markdown",
   "id": "5289542e",
   "metadata": {},
   "source": [
    "# TOYRIFFIC"
   ]
  },
  {
   "cell_type": "code",
   "execution_count": null,
   "id": "8f557d47",
   "metadata": {},
   "outputs": [],
   "source": [
    "toyrific=df[df[\"Class\"]==\"Toyrific\"]\n",
    "x=xyz1(toyrific)\n",
    "x"
   ]
  },
  {
   "cell_type": "code",
   "execution_count": null,
   "id": "2afef7d1",
   "metadata": {},
   "outputs": [],
   "source": [
    "a=abc1(toyrific)\n",
    "a"
   ]
  },
  {
   "cell_type": "code",
   "execution_count": null,
   "id": "dfd7bce7",
   "metadata": {},
   "outputs": [],
   "source": [
    "m_toyrific=merge(x,a)\n",
    "m_toyrific"
   ]
  },
  {
   "cell_type": "markdown",
   "id": "716a4aa9",
   "metadata": {},
   "source": [
    "# Yello"
   ]
  },
  {
   "cell_type": "code",
   "execution_count": null,
   "id": "b14061fc",
   "metadata": {},
   "outputs": [],
   "source": [
    "yello=df[df[\"Class\"]==\"Yello\"]\n",
    "x=xyz1(yello)\n",
    "x"
   ]
  },
  {
   "cell_type": "code",
   "execution_count": null,
   "id": "d709ebf8",
   "metadata": {},
   "outputs": [],
   "source": [
    "a=abc1(yello)\n",
    "a"
   ]
  },
  {
   "cell_type": "code",
   "execution_count": null,
   "id": "3230518d",
   "metadata": {},
   "outputs": [],
   "source": [
    "m_yello=merge(x,a)\n",
    "m_yello"
   ]
  },
  {
   "cell_type": "markdown",
   "id": "2342897d",
   "metadata": {},
   "source": [
    "# VW"
   ]
  },
  {
   "cell_type": "code",
   "execution_count": null,
   "id": "cd2f5f49",
   "metadata": {
    "scrolled": true
   },
   "outputs": [],
   "source": [
    "vw=df[df[\"Class\"]==\"VW\"]\n",
    "x=xyz1(vw)\n",
    "x"
   ]
  },
  {
   "cell_type": "code",
   "execution_count": null,
   "id": "62fdd8aa",
   "metadata": {},
   "outputs": [],
   "source": [
    "a=abc1(vw)\n",
    "a"
   ]
  },
  {
   "cell_type": "code",
   "execution_count": null,
   "id": "65dcc87d",
   "metadata": {},
   "outputs": [],
   "source": [
    "m_vw=merge(x,a)\n",
    "m_vw"
   ]
  },
  {
   "cell_type": "markdown",
   "id": "7a1aa42c",
   "metadata": {},
   "source": [
    "# Urban Beach"
   ]
  },
  {
   "cell_type": "code",
   "execution_count": null,
   "id": "431be75d",
   "metadata": {},
   "outputs": [],
   "source": [
    "urban=df[df[\"Class\"]==\"Urban Beach\"]\n",
    "x=xyz1(urban)\n",
    "x"
   ]
  },
  {
   "cell_type": "code",
   "execution_count": null,
   "id": "ed6eff1b",
   "metadata": {},
   "outputs": [],
   "source": [
    "a=abc1(urban)\n",
    "a\n",
    "a.head()"
   ]
  },
  {
   "cell_type": "code",
   "execution_count": null,
   "id": "333145f3",
   "metadata": {},
   "outputs": [],
   "source": [
    "select_x=list(range(0,4))+list(range(55,x.shape[1]))\n",
    "select_a=list(range(2,3))+list(range(4,a.shape[1]))\n",
    "m_urban=pd.merge(x.iloc[:,select_x], a.iloc[:,select_a], how=\"inner\", on=\"StockCode\").sort_values(by=\"%Profit\")\n",
    "m_urban\n"
   ]
  },
  {
   "cell_type": "markdown",
   "id": "9985b109",
   "metadata": {},
   "source": [
    "# Xootz"
   ]
  },
  {
   "cell_type": "code",
   "execution_count": null,
   "id": "b987468f",
   "metadata": {},
   "outputs": [],
   "source": [
    "xootz=df[df[\"Class\"]==\"Xootz\"]\n",
    "x=xyz1(xootz)\n",
    "x"
   ]
  },
  {
   "cell_type": "code",
   "execution_count": null,
   "id": "2d927a99",
   "metadata": {},
   "outputs": [],
   "source": [
    "a=abc1(xootz)\n",
    "a"
   ]
  },
  {
   "cell_type": "code",
   "execution_count": null,
   "id": "587be9c7",
   "metadata": {},
   "outputs": [],
   "source": [
    "m_xootz=merge(x,a)\n",
    "m_xootz"
   ]
  },
  {
   "cell_type": "markdown",
   "id": "14db9fd6",
   "metadata": {},
   "source": [
    "# Lay-Z-Spa"
   ]
  },
  {
   "cell_type": "code",
   "execution_count": null,
   "id": "58dc356b",
   "metadata": {},
   "outputs": [],
   "source": [
    "layz=df[df[\"Class\"]==\"Lay-Z-Spa\"]\n",
    "x=xyz1(layz)\n",
    "x"
   ]
  },
  {
   "cell_type": "code",
   "execution_count": null,
   "id": "a840a8cd",
   "metadata": {},
   "outputs": [],
   "source": [
    "a=abc1(layz)\n",
    "a"
   ]
  },
  {
   "cell_type": "code",
   "execution_count": null,
   "id": "269dec74",
   "metadata": {},
   "outputs": [],
   "source": [
    "m_layz=merge(x,a)\n",
    "m_layz"
   ]
  },
  {
   "cell_type": "code",
   "execution_count": null,
   "id": "32555c7c",
   "metadata": {},
   "outputs": [],
   "source": [
    "path=\"S:/sales office\\Vishnu\\High inventory products/ABC & XYZ/ABC&XYZ_Profit.xlsx\""
   ]
  },
  {
   "cell_type": "code",
   "execution_count": null,
   "id": "5af26bad",
   "metadata": {},
   "outputs": [],
   "source": [
    "with pd.ExcelWriter(path) as writer:\n",
    "    m_osprey.to_excel(writer, \"Osprey\", index=False)\n",
    "    m_bestway.to_excel(writer, \"Bestway\", index=False)\n",
    "    m_clearwater.to_excel(writer, \"Clearwater\", index=False)\n",
    "    m_toyrific.to_excel(writer, \"Toyrific\", index=False)\n",
    "    m_yello.to_excel(writer, \"yello\", index=False)\n",
    "    m_urban.to_excel(writer, \"Urban Beach\", index=False)\n",
    "    m_layz.to_excel(writer, \"Lay-Z-Spa\", index=False)\n",
    "    m_xootz.to_excel(writer, \"Xootz\", index=False)\n",
    "    m_vw.to_excel(writer, \"VW\", index=False)"
   ]
  },
  {
   "cell_type": "code",
   "execution_count": null,
   "id": "c102e284",
   "metadata": {},
   "outputs": [],
   "source": []
  },
  {
   "cell_type": "code",
   "execution_count": null,
   "id": "f5fb27f3",
   "metadata": {},
   "outputs": [],
   "source": []
  },
  {
   "cell_type": "code",
   "execution_count": null,
   "id": "6702ed6d",
   "metadata": {},
   "outputs": [],
   "source": []
  },
  {
   "cell_type": "code",
   "execution_count": null,
   "id": "93f61ee1",
   "metadata": {},
   "outputs": [],
   "source": []
  },
  {
   "cell_type": "code",
   "execution_count": null,
   "id": "c169e160",
   "metadata": {},
   "outputs": [],
   "source": []
  },
  {
   "cell_type": "code",
   "execution_count": null,
   "id": "5453ca9b",
   "metadata": {},
   "outputs": [],
   "source": []
  },
  {
   "cell_type": "code",
   "execution_count": null,
   "id": "4251f10a",
   "metadata": {},
   "outputs": [],
   "source": []
  },
  {
   "cell_type": "code",
   "execution_count": null,
   "id": "3f76e5c6",
   "metadata": {},
   "outputs": [],
   "source": []
  },
  {
   "cell_type": "code",
   "execution_count": null,
   "id": "57fd7646",
   "metadata": {},
   "outputs": [],
   "source": []
  },
  {
   "cell_type": "code",
   "execution_count": null,
   "id": "78233c70",
   "metadata": {},
   "outputs": [],
   "source": []
  },
  {
   "cell_type": "code",
   "execution_count": null,
   "id": "efd834d1",
   "metadata": {},
   "outputs": [],
   "source": []
  },
  {
   "cell_type": "code",
   "execution_count": null,
   "id": "609bb640",
   "metadata": {},
   "outputs": [],
   "source": []
  }
 ],
 "metadata": {
  "kernelspec": {
   "display_name": "Python 3 (ipykernel)",
   "language": "python",
   "name": "python3"
  },
  "language_info": {
   "codemirror_mode": {
    "name": "ipython",
    "version": 3
   },
   "file_extension": ".py",
   "mimetype": "text/x-python",
   "name": "python",
   "nbconvert_exporter": "python",
   "pygments_lexer": "ipython3",
   "version": "3.10.9"
  }
 },
 "nbformat": 4,
 "nbformat_minor": 5
}
